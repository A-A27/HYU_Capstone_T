{
 "cells": [
  {
   "cell_type": "code",
   "execution_count": 1,
   "id": "ff51dada-766e-48ec-9c46-34adcfc7cde0",
   "metadata": {},
   "outputs": [],
   "source": [
    "text = \"정규 4집 및 리패키지 활동을 성공적으로 마친 그룹 세븐틴(SEVENTEEN)이 '핫(HOT)'한 기운을 그대로 품고 북미로 향했다. 데뷔 이후 꾸준히 성장을 거듭해온 이들은 8년 차가 된 올해 역시 지치지 않는 에너지로 '커리어 하이'를 달성하는 저력을 발휘했다. 탄탄히 쌓아온 팀의 내공은 전 멤버 재계약 체결 이후 더욱 빛을 발하고 있다. 세븐틴(에스쿱스, 정한, 조슈아, 준, 호시, 원우, 우지, 디에잇, 민규, 도겸, 승관, 버논, 디노) 하면 떠오르는 강점 세 가지는 바로 음반 강자, 자체 제작돌, 퍼포먼스다. 이번 정규 4집 및 리패키지 활동에서도 변함없이 이를 모두 증명해낸 세븐틴이었다. 단연 눈에 띄는 건 앨범 성적이다. 지난 5월 정규 4집 '페이스 더 선(Face the Sun)'을 발매한 데 이어 지난달 정규 4집 리패키지 앨범 '섹터 17(SECTOR 17)'을 내며 더블 히트에 성공했다. 7연속 밀리언셀러(단일 앨범 100만장 이상 판매)라는 대기록을 썼고, 미국의 메인 앨범 차트인 '빌보드 200'에서 4위를 기록하며 자체 최고 성적을 달성했다. 활동을 종료한 현재도 2주 연속 '빌보드 200'에 이름을 올리는 등 열기를 이어가고 있다.특히 이번 활동에서는 '하나 된 세븐틴'을 느끼기 충분했다. K팝 대표 보이그룹으로 이미 충분한 인기를 얻고 있음에도, 안주하지 않고 끝없이 발전하고 성장하려는 세븐틴의 의지는 앨범에 고스란히 녹아들었다. '페이스 더 선'으로는 세상에 유일하고도 막대한 영향력을 끼치는 태양과 같은 존재가 되겠다며 더 높은 곳으로 오르겠다는 강력한 포부를 드러냈다. '섹터 17'로는 태양을 뛰어넘기 위해 가장 높은 곳에 도달한 세븐틴의 모습, 자신들이 완성해낸 세상을 표현해냈다. 세븐틴은 직접 곡을 만들고 프로듀싱하는 대표적인 '자체 제작돌'이다. 데뷔 때부터 작사·작곡은 물론, 퍼포먼스 제작까지 도맡으며 주체적으로 본인들의 색깔을 내왔다. 이러한 내공은 쌓이고 또 쌓여 세븐틴을 '전하고자 하는 메시지를 자신들에게 가장 잘 어울리는 방식으로 표현할 줄 아는 그룹'으로 만들어 냈다. 다인원 군무 합이 만들어내는 짜릿한 쾌감도 이들만의 매력이다. 퍼포먼스에 강한 팀답게 압도적인 에너지를 바탕으로, 'HOT'에서는 강렬함을, '_월드(_World)'에서는 청량함을 십분 발휘했다.\""
   ]
  },
  {
   "cell_type": "code",
   "execution_count": 2,
   "id": "f67163cc-d9ff-4400-9837-89f7c6d09242",
   "metadata": {},
   "outputs": [
    {
     "name": "stdout",
     "output_type": "stream",
     "text": [
      "[\"정규 4집 및 리패키지 활동을 성공적으로 마친 그룹 세븐틴(SEVENTEEN)이 '핫(HOT)'한 기운을 그대로 품고 북미로 향했다\", \"데뷔 이후 꾸준히 성장을 거듭해온 이들은 8년 차가 된 올해 역시 지치지 않는 에너지로 '커리어 하이'를 달성하는 저력을 발휘했다\", '탄탄히 쌓아온 팀의 내공은 전 멤버 재계약 체결 이후 더욱 빛을 발하고 있다', '세븐틴(에스쿱스, 정한, 조슈아, 준, 호시, 원우, 우지, 디에잇, 민규, 도겸, 승관, 버논, 디노) 하면 떠오르는 강점 세 가지는 바로 음반 강자, 자체 제작돌, 퍼포먼스다', '이번 정규 4집 및 리패키지 활동에서도 변함없이 이를 모두 증명해낸 세븐틴이었다', '단연 눈에 띄는 건 앨범 성적이다', \"지난 5월 정규 4집 '페이스 더 선(Face the Sun)'을 발매한 데 이어 지난달 정규 4집 리패키지 앨범 '섹터 17(SECTOR 17)'을 내며 더블 히트에 성공했다\", \"7연속 밀리언셀러(단일 앨범 100만장 이상 판매)라는 대기록을 썼고, 미국의 메인 앨범 차트인 '빌보드 200'에서 4위를 기록하며 자체 최고 성적을 달성했다\", \"활동을 종료한 현재도 2주 연속 '빌보드 200'에 이름을 올리는 등 열기를 이어가고 있다.특히 이번 활동에서는 '하나 된 세븐틴'을 느끼기 충분했다\", 'K팝 대표 보이그룹으로 이미 충분한 인기를 얻고 있음에도, 안주하지 않고 끝없이 발전하고 성장하려는 세븐틴의 의지는 앨범에 고스란히 녹아들었다', \"'페이스 더 선'으로는 세상에 유일하고도 막대한 영향력을 끼치는 태양과 같은 존재가 되겠다며 더 높은 곳으로 오르겠다는 강력한 포부를 드러냈다\", \"'섹터 17'로는 태양을 뛰어넘기 위해 가장 높은 곳에 도달한 세븐틴의 모습, 자신들이 완성해낸 세상을 표현해냈다\", \"세븐틴은 직접 곡을 만들고 프로듀싱하는 대표적인 '자체 제작돌'이다\", '데뷔 때부터 작사·작곡은 물론, 퍼포먼스 제작까지 도맡으며 주체적으로 본인들의 색깔을 내왔다', \"이러한 내공은 쌓이고 또 쌓여 세븐틴을 '전하고자 하는 메시지를 자신들에게 가장 잘 어울리는 방식으로 표현할 줄 아는 그룹'으로 만들어 냈다\", '다인원 군무 합이 만들어내는 짜릿한 쾌감도 이들만의 매력이다', \"퍼포먼스에 강한 팀답게 압도적인 에너지를 바탕으로, 'HOT'에서는 강렬함을, '_월드(_World)'에서는 청량함을 십분 발휘했다.\"]\n"
     ]
    }
   ],
   "source": [
    "# 문장을 요소 단위로 나눔\n",
    "import re\n",
    "text = re.sub(r\"\\n+\", \" \", text)\n",
    "sentences = re.split(\"[\\.?!]\\s+\", text)\n",
    "print(sentences)"
   ]
  },
  {
   "cell_type": "code",
   "execution_count": 7,
   "id": "c60c59ee-a27e-4f7b-956d-18e391fd4851",
   "metadata": {},
   "outputs": [],
   "source": [
    "def pagerank(x, df=0.85, max_iter=30):\n",
    "    assert 0 < df < 1\n",
    "\n",
    "    # initialize\n",
    "    A = normalize(x, axis=0, norm='l1')\n",
    "    R = np.ones(A.shape[0]).reshape(-1,1)\n",
    "    bias = (1 - df) * np.ones(A.shape[0]).reshape(-1,1)\n",
    "    # iteration\n",
    "    for _ in range(max_iter):\n",
    "        R = df * (A * R) + bias\n",
    "    return R"
   ]
  },
  {
   "cell_type": "code",
   "execution_count": 9,
   "id": "e6a7e48e-e9ce-4e09-9d33-7a19f67b5064",
   "metadata": {},
   "outputs": [
    {
     "name": "stdout",
     "output_type": "stream",
     "text": [
      "데뷔 이후 꾸준히 성장을 거듭해온 이들은 8년 차가 된 올해 역시 지치지 않는 에너지로 '커리어 하이'를 달성하는 저력을 발휘했다\n",
      "\n",
      "7연속 밀리언셀러(단일 앨범 100만장 이상 판매)라는 대기록을 썼고, 미국의 메인 앨범 차트인 '빌보드 200'에서 4위를 기록하며 자체 최고 성적을 달성했다\n",
      "\n",
      "'섹터 17'로는 태양을 뛰어넘기 위해 가장 높은 곳에 도달한 세븐틴의 모습, 자신들이 완성해낸 세상을 표현해냈다\n",
      "\n"
     ]
    }
   ],
   "source": [
    "import pandas as pd\n",
    "import math\n",
    "import numpy as np\n",
    "from sklearn.preprocessing import normalize\n",
    "\n",
    "data = []\n",
    "\n",
    "for sentence in sentences:\n",
    "    if(sentence == \"\" or len(sentence) == 0):\n",
    "        continue\n",
    "    temp_dict = dict()\n",
    "    temp_dict['sentence'] = sentence\n",
    "    temp_dict['token_list'] = sentence.split()\n",
    "    \n",
    "    data.append(temp_dict)\n",
    "\n",
    "df = pd.DataFrame(data)\n",
    "\n",
    "# 문장들 간의 유사도 계산\n",
    "similarity_matrix = []\n",
    "for i, row_i in df.iterrows():\n",
    "    i_row_vec = []\n",
    "    for j, row_j in df.iterrows():\n",
    "        if i == j:\n",
    "            i_row_vec.append(0.0)\n",
    "        else:\n",
    "            intersection = len(set(row_i['token_list']) & set(row_j['token_list']))\n",
    "            log_i = math.log(len(set(row_i['token_list'])))\n",
    "            log_j = math.log(len(set(row_j['token_list'])))\n",
    "            similarity = intersection / (log_i + log_j)\n",
    "            i_row_vec.append(similarity)\n",
    "    similarity_matrix.append(i_row_vec)\n",
    "\n",
    "    \n",
    "weightedGraph = np.array(similarity_matrix)\n",
    "R = pagerank(weightedGraph) # pagerank를 돌려서 rank matrix 반환\n",
    "R = R.sum(axis=1)  # 반환된 matrix를 row 별로 sum\n",
    "indexs = R.argsort()[-3:] # 해당 rank 값을 sort, 값이 높은 3개의 문장 index를 반환\n",
    "\n",
    "# rank값이 높은 문장을 프린트\n",
    "for index in sorted(indexs): # sorted 하는 이유는 원래 문장 순서에 맞춰 보여주기 위함\n",
    "    print(df['sentence'][index])\n",
    "    print()"
   ]
  },
  {
   "cell_type": "code",
   "execution_count": null,
   "id": "c02cc1a8-a129-43a7-a809-947ee294006f",
   "metadata": {},
   "outputs": [],
   "source": [
    "## https://hoonzi-text.tistory.com/68 (코드)"
   ]
  }
 ],
 "metadata": {
  "kernelspec": {
   "display_name": "Python 3 (ipykernel)",
   "language": "python",
   "name": "python3"
  },
  "language_info": {
   "codemirror_mode": {
    "name": "ipython",
    "version": 3
   },
   "file_extension": ".py",
   "mimetype": "text/x-python",
   "name": "python",
   "nbconvert_exporter": "python",
   "pygments_lexer": "ipython3",
   "version": "3.9.12"
  }
 },
 "nbformat": 4,
 "nbformat_minor": 5
}
